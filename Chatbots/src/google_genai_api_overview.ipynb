{
 "cells": [
  {
   "cell_type": "code",
   "execution_count": 5,
   "metadata": {},
   "outputs": [
    {
     "name": "stdout",
     "output_type": "stream",
     "text": [
      "Requirement already satisfied: google-generativeai in /Users/jaco/Desktop/SideProjects/NLPProjects/.venv/lib/python3.9/site-packages (0.7.2)\n",
      "Requirement already satisfied: pandas in /Users/jaco/Desktop/SideProjects/NLPProjects/.venv/lib/python3.9/site-packages (2.2.2)\n",
      "Requirement already satisfied: Pillow in /Users/jaco/Desktop/SideProjects/NLPProjects/.venv/lib/python3.9/site-packages (10.4.0)\n",
      "Collecting absl-py\n",
      "  Downloading absl_py-2.1.0-py3-none-any.whl.metadata (2.3 kB)\n",
      "Requirement already satisfied: google-ai-generativelanguage==0.6.6 in /Users/jaco/Desktop/SideProjects/NLPProjects/.venv/lib/python3.9/site-packages (from google-generativeai) (0.6.6)\n",
      "Requirement already satisfied: google-api-core in /Users/jaco/Desktop/SideProjects/NLPProjects/.venv/lib/python3.9/site-packages (from google-generativeai) (2.19.1)\n",
      "Requirement already satisfied: google-api-python-client in /Users/jaco/Desktop/SideProjects/NLPProjects/.venv/lib/python3.9/site-packages (from google-generativeai) (2.140.0)\n",
      "Requirement already satisfied: google-auth>=2.15.0 in /Users/jaco/Desktop/SideProjects/NLPProjects/.venv/lib/python3.9/site-packages (from google-generativeai) (2.33.0)\n",
      "Requirement already satisfied: protobuf in /Users/jaco/Desktop/SideProjects/NLPProjects/.venv/lib/python3.9/site-packages (from google-generativeai) (4.25.4)\n",
      "Requirement already satisfied: pydantic in /Users/jaco/Desktop/SideProjects/NLPProjects/.venv/lib/python3.9/site-packages (from google-generativeai) (2.8.2)\n",
      "Requirement already satisfied: tqdm in /Users/jaco/Desktop/SideProjects/NLPProjects/.venv/lib/python3.9/site-packages (from google-generativeai) (4.66.5)\n",
      "Requirement already satisfied: typing-extensions in /Users/jaco/Desktop/SideProjects/NLPProjects/.venv/lib/python3.9/site-packages (from google-generativeai) (4.12.2)\n",
      "Requirement already satisfied: proto-plus<2.0.0dev,>=1.22.3 in /Users/jaco/Desktop/SideProjects/NLPProjects/.venv/lib/python3.9/site-packages (from google-ai-generativelanguage==0.6.6->google-generativeai) (1.24.0)\n",
      "Requirement already satisfied: numpy>=1.22.4 in /Users/jaco/Desktop/SideProjects/NLPProjects/.venv/lib/python3.9/site-packages (from pandas) (2.0.1)\n",
      "Requirement already satisfied: python-dateutil>=2.8.2 in /Users/jaco/Desktop/SideProjects/NLPProjects/.venv/lib/python3.9/site-packages (from pandas) (2.9.0.post0)\n",
      "Requirement already satisfied: pytz>=2020.1 in /Users/jaco/Desktop/SideProjects/NLPProjects/.venv/lib/python3.9/site-packages (from pandas) (2024.1)\n",
      "Requirement already satisfied: tzdata>=2022.7 in /Users/jaco/Desktop/SideProjects/NLPProjects/.venv/lib/python3.9/site-packages (from pandas) (2024.1)\n",
      "Requirement already satisfied: googleapis-common-protos<2.0.dev0,>=1.56.2 in /Users/jaco/Desktop/SideProjects/NLPProjects/.venv/lib/python3.9/site-packages (from google-api-core->google-generativeai) (1.63.2)\n",
      "Requirement already satisfied: requests<3.0.0.dev0,>=2.18.0 in /Users/jaco/Desktop/SideProjects/NLPProjects/.venv/lib/python3.9/site-packages (from google-api-core->google-generativeai) (2.32.3)\n",
      "Requirement already satisfied: cachetools<6.0,>=2.0.0 in /Users/jaco/Desktop/SideProjects/NLPProjects/.venv/lib/python3.9/site-packages (from google-auth>=2.15.0->google-generativeai) (5.4.0)\n",
      "Requirement already satisfied: pyasn1-modules>=0.2.1 in /Users/jaco/Desktop/SideProjects/NLPProjects/.venv/lib/python3.9/site-packages (from google-auth>=2.15.0->google-generativeai) (0.4.0)\n",
      "Requirement already satisfied: rsa<5,>=3.1.4 in /Users/jaco/Desktop/SideProjects/NLPProjects/.venv/lib/python3.9/site-packages (from google-auth>=2.15.0->google-generativeai) (4.9)\n",
      "Requirement already satisfied: six>=1.5 in /Users/jaco/Desktop/SideProjects/NLPProjects/.venv/lib/python3.9/site-packages (from python-dateutil>=2.8.2->pandas) (1.16.0)\n",
      "Requirement already satisfied: httplib2<1.dev0,>=0.19.0 in /Users/jaco/Desktop/SideProjects/NLPProjects/.venv/lib/python3.9/site-packages (from google-api-python-client->google-generativeai) (0.22.0)\n",
      "Requirement already satisfied: google-auth-httplib2<1.0.0,>=0.2.0 in /Users/jaco/Desktop/SideProjects/NLPProjects/.venv/lib/python3.9/site-packages (from google-api-python-client->google-generativeai) (0.2.0)\n",
      "Requirement already satisfied: uritemplate<5,>=3.0.1 in /Users/jaco/Desktop/SideProjects/NLPProjects/.venv/lib/python3.9/site-packages (from google-api-python-client->google-generativeai) (4.1.1)\n",
      "Requirement already satisfied: annotated-types>=0.4.0 in /Users/jaco/Desktop/SideProjects/NLPProjects/.venv/lib/python3.9/site-packages (from pydantic->google-generativeai) (0.7.0)\n",
      "Requirement already satisfied: pydantic-core==2.20.1 in /Users/jaco/Desktop/SideProjects/NLPProjects/.venv/lib/python3.9/site-packages (from pydantic->google-generativeai) (2.20.1)\n",
      "Requirement already satisfied: grpcio<2.0dev,>=1.33.2 in /Users/jaco/Desktop/SideProjects/NLPProjects/.venv/lib/python3.9/site-packages (from google-api-core[grpc]!=2.0.*,!=2.1.*,!=2.10.*,!=2.2.*,!=2.3.*,!=2.4.*,!=2.5.*,!=2.6.*,!=2.7.*,!=2.8.*,!=2.9.*,<3.0.0dev,>=1.34.1->google-ai-generativelanguage==0.6.6->google-generativeai) (1.65.4)\n",
      "Requirement already satisfied: grpcio-status<2.0.dev0,>=1.33.2 in /Users/jaco/Desktop/SideProjects/NLPProjects/.venv/lib/python3.9/site-packages (from google-api-core[grpc]!=2.0.*,!=2.1.*,!=2.10.*,!=2.2.*,!=2.3.*,!=2.4.*,!=2.5.*,!=2.6.*,!=2.7.*,!=2.8.*,!=2.9.*,<3.0.0dev,>=1.34.1->google-ai-generativelanguage==0.6.6->google-generativeai) (1.62.3)\n",
      "Requirement already satisfied: pyparsing!=3.0.0,!=3.0.1,!=3.0.2,!=3.0.3,<4,>=2.4.2 in /Users/jaco/Desktop/SideProjects/NLPProjects/.venv/lib/python3.9/site-packages (from httplib2<1.dev0,>=0.19.0->google-api-python-client->google-generativeai) (3.1.2)\n",
      "Requirement already satisfied: pyasn1<0.7.0,>=0.4.6 in /Users/jaco/Desktop/SideProjects/NLPProjects/.venv/lib/python3.9/site-packages (from pyasn1-modules>=0.2.1->google-auth>=2.15.0->google-generativeai) (0.6.0)\n",
      "Requirement already satisfied: charset-normalizer<4,>=2 in /Users/jaco/Desktop/SideProjects/NLPProjects/.venv/lib/python3.9/site-packages (from requests<3.0.0.dev0,>=2.18.0->google-api-core->google-generativeai) (3.3.2)\n",
      "Requirement already satisfied: idna<4,>=2.5 in /Users/jaco/Desktop/SideProjects/NLPProjects/.venv/lib/python3.9/site-packages (from requests<3.0.0.dev0,>=2.18.0->google-api-core->google-generativeai) (3.7)\n",
      "Requirement already satisfied: urllib3<3,>=1.21.1 in /Users/jaco/Desktop/SideProjects/NLPProjects/.venv/lib/python3.9/site-packages (from requests<3.0.0.dev0,>=2.18.0->google-api-core->google-generativeai) (2.2.2)\n",
      "Requirement already satisfied: certifi>=2017.4.17 in /Users/jaco/Desktop/SideProjects/NLPProjects/.venv/lib/python3.9/site-packages (from requests<3.0.0.dev0,>=2.18.0->google-api-core->google-generativeai) (2024.7.4)\n",
      "Downloading absl_py-2.1.0-py3-none-any.whl (133 kB)\n",
      "Installing collected packages: absl-py\n",
      "Successfully installed absl-py-2.1.0\n"
     ]
    }
   ],
   "source": [
    "!pip3 install google-generativeai pandas Pillow absl-py"
   ]
  },
  {
   "cell_type": "code",
   "execution_count": 6,
   "metadata": {},
   "outputs": [],
   "source": [
    "import os\n",
    "import getpass\n",
    "import google.generativeai as genai\n",
    "import PIL.Image\n",
    "import pandas as pd\n",
    "import sys\n",
    "import absl.logging\n",
    "absl.logging.set_verbosity(absl.logging.ERROR)"
   ]
  },
  {
   "cell_type": "code",
   "execution_count": 2,
   "metadata": {},
   "outputs": [],
   "source": [
    "# Setup API key\n",
    "if \"GOOGLE_API_KEY\" not in os.environ:\n",
    "    os.environ[\"GOOGLE_API_KEY\"] = getpass.getpass(\"Provide your Google API Key\")\n",
    "GOOGLE_API_KEY =  os.environ[\"GOOGLE_API_KEY\"]\n",
    "genai.configure(api_key=GOOGLE_API_KEY)\n",
    "\n",
    "chat_model_name = 'gemini-1.5-flash'\n",
    "embedding_model_name = 'models/embedding-001'"
   ]
  },
  {
   "cell_type": "markdown",
   "metadata": {},
   "source": [
    "### Basic chat response"
   ]
  },
  {
   "cell_type": "code",
   "execution_count": 7,
   "metadata": {},
   "outputs": [
    {
     "name": "stdout",
     "output_type": "stream",
     "text": [
      "\n",
      "The meaning of life is a philosophical question with no one definitive answer. Different individuals and cultures have diverse perspectives. \n",
      "\n"
     ]
    }
   ],
   "source": [
    "system_instruction=\"You are an AI assistant. Answer my questions concisely\"\n",
    "model = genai.GenerativeModel(model_name=chat_model_name, system_instruction=system_instruction)\n",
    "response = model.generate_content(\"What is the meaning of life?\")\n",
    "print('\\n' + response.text)"
   ]
  },
  {
   "cell_type": "markdown",
   "metadata": {},
   "source": [
    "### Text and Image input"
   ]
  },
  {
   "cell_type": "code",
   "execution_count": 8,
   "metadata": {},
   "outputs": [
    {
     "name": "stdout",
     "output_type": "stream",
     "text": [
      "\n",
      " These delicious-looking meal prep containers are filled with teriyaki chicken, broccoli, carrots, peppers and rice. My meal prep journey has been amazing. Not only has it helped me eat healthier, but it's also saved me time and money. Plus, having pre-made meals ready to go has made it so much easier to stick to my fitness goals. If you're looking for a way to simplify your life and improve your diet, I highly recommend giving meal prep a try. \n",
      "\n"
     ]
    }
   ],
   "source": [
    "system_instruction=\"You are an AI assistant. Answer my questions concisely\"\n",
    "model = genai.GenerativeModel(model_name=chat_model_name, system_instruction=system_instruction)\n",
    "\n",
    "image = PIL.Image.open('../data/images/image.png')\n",
    "response = model.generate_content([\"Write a short, engaging blog post based on this picture. It should include a description of the meal in the photo and talk about my journey meal prepping.\", image])\n",
    "print('\\n', response.text)"
   ]
  },
  {
   "cell_type": "markdown",
   "metadata": {},
   "source": [
    "### Chat with memory"
   ]
  },
  {
   "cell_type": "code",
   "execution_count": 9,
   "metadata": {},
   "outputs": [
    {
     "name": "stdout",
     "output_type": "stream",
     "text": [
      "\n",
      " A computer is like a brain that follows instructions to make pictures, sounds, and words appear on a screen. \n",
      "\n",
      "[parts {\n",
      "  text: \"In one sentence, explain how a computer works to a young child.\"\n",
      "}\n",
      "role: \"user\"\n",
      ", parts {\n",
      "  text: \"A computer is like a brain that follows instructions to make pictures, sounds, and words appear on a screen. \\n\"\n",
      "}\n",
      "role: \"model\"\n",
      "]\n",
      "\n",
      " Computers work by processing information, which is essentially a series of ones and zeros, through a complex network of circuits and components, enabling them to perform tasks like calculations, communication, and multimedia playback based on programmed instructions. \n",
      "\n",
      "[parts {\n",
      "  text: \"In one sentence, explain how a computer works to a young child.\"\n",
      "}\n",
      "role: \"user\"\n",
      ", parts {\n",
      "  text: \"A computer is like a brain that follows instructions to make pictures, sounds, and words appear on a screen. \\n\"\n",
      "}\n",
      "role: \"model\"\n",
      ", parts {\n",
      "  text: \"Okay, how about a more detailed explanation to a high schooler?\"\n",
      "}\n",
      "role: \"user\"\n",
      ", parts {\n",
      "  text: \"Computers work by processing information, which is essentially a series of ones and zeros, through a complex network of circuits and components, enabling them to perform tasks like calculations, communication, and multimedia playback based on programmed instructions. \\n\"\n",
      "}\n",
      "role: \"model\"\n",
      "]\n"
     ]
    }
   ],
   "source": [
    "system_instruction=\"You are an AI assistant. Answer my questions concisely\"\n",
    "model = genai.GenerativeModel(model_name=chat_model_name, system_instruction=system_instruction)\n",
    "chat = model.start_chat(history=[])\n",
    "\n",
    "response = chat.send_message(\"In one sentence, explain how a computer works to a young child.\")\n",
    "print('\\n', response.text)\n",
    "print(chat.history)\n",
    "\n",
    "response = chat.send_message(\"Okay, how about a more detailed explanation to a high schooler?\")\n",
    "print('\\n', response.text)\n",
    "print(chat.history)"
   ]
  },
  {
   "cell_type": "markdown",
   "metadata": {},
   "source": [
    "### Get text document embeddings"
   ]
  },
  {
   "cell_type": "code",
   "execution_count": 11,
   "metadata": {},
   "outputs": [
    {
     "name": "stdout",
     "output_type": "stream",
     "text": [
      "                                  Title  \\\n",
      "0  Operating the Climate Control System   \n",
      "1                           Touchscreen   \n",
      "2                        Shifting Gears   \n",
      "\n",
      "                                                Text  \\\n",
      "0  Your Googlecar has a climate control system th...   \n",
      "1  Your Googlecar has a large touchscreen display...   \n",
      "2  Your Googlecar has an automatic transmission. ...   \n",
      "\n",
      "                                          Embeddings  \n",
      "0  [-0.033361107, -0.021217084, -0.049581926, -0....  \n",
      "1  [0.009660736, -0.030662702, -0.017281422, -0.0...  \n",
      "2  [-0.04270796, -0.007160868, -0.03242516, -0.02...  \n"
     ]
    }
   ],
   "source": [
    "def embed_fn(title, text):\n",
    "    return genai.embed_content(model=embedding_model_name,\n",
    "                                content=text,\n",
    "                                task_type=\"retrieval_document\",\n",
    "                                title=title)[\"embedding\"]\n",
    "\n",
    "DOCUMENT1 = {\n",
    "\"title\": \"Operating the Climate Control System\",\n",
    "\"content\": \"Your Googlecar has a climate control system that allows you to adjust the temperature and airflow in the car. To operate the climate control system, use the buttons and knobs located on the center console.  Temperature: The temperature knob controls the temperature inside the car. Turn the knob clockwise to increase the temperature or counterclockwise to decrease the temperature. Airflow: The airflow knob controls the amount of airflow inside the car. Turn the knob clockwise to increase the airflow or counterclockwise to decrease the airflow. Fan speed: The fan speed knob controls the speed of the fan. Turn the knob clockwise to increase the fan speed or counterclockwise to decrease the fan speed. Mode: The mode button allows you to select the desired mode. The available modes are: Auto: The car will automatically adjust the temperature and airflow to maintain a comfortable level. Cool: The car will blow cool air into the car. Heat: The car will blow warm air into the car. Defrost: The car will blow warm air onto the windshield to defrost it.\"}\n",
    "DOCUMENT2 = {\n",
    "    \"title\": \"Touchscreen\",\n",
    "    \"content\": \"Your Googlecar has a large touchscreen display that provides access to a variety of features, including navigation, entertainment, and climate control. To use the touchscreen display, simply touch the desired icon.  For example, you can touch the \\\"Navigation\\\" icon to get directions to your destination or touch the \\\"Music\\\" icon to play your favorite songs.\"}\n",
    "DOCUMENT3 = {\n",
    "    \"title\": \"Shifting Gears\",\n",
    "    \"content\": \"Your Googlecar has an automatic transmission. To shift gears, simply move the shift lever to the desired position.  Park: This position is used when you are parked. The wheels are locked and the car cannot move. Reverse: This position is used to back up. Neutral: This position is used when you are stopped at a light or in traffic. The car is not in gear and will not move unless you press the gas pedal. Drive: This position is used to drive forward. Low: This position is used for driving in snow or other slippery conditions.\"}\n",
    "\n",
    "documents = [DOCUMENT1, DOCUMENT2, DOCUMENT3]\n",
    "\n",
    "df = pd.DataFrame(documents)\n",
    "df.columns = ['Title', 'Text']\n",
    "\n",
    "df['Embeddings'] = df.apply(lambda row: embed_fn(row['Title'], row['Text']), axis=1)\n",
    "print(df)"
   ]
  },
  {
   "cell_type": "code",
   "execution_count": null,
   "metadata": {},
   "outputs": [],
   "source": []
  }
 ],
 "metadata": {
  "kernelspec": {
   "display_name": ".venv",
   "language": "python",
   "name": "python3"
  },
  "language_info": {
   "codemirror_mode": {
    "name": "ipython",
    "version": 3
   },
   "file_extension": ".py",
   "mimetype": "text/x-python",
   "name": "python",
   "nbconvert_exporter": "python",
   "pygments_lexer": "ipython3",
   "version": "3.9.6"
  }
 },
 "nbformat": 4,
 "nbformat_minor": 2
}
